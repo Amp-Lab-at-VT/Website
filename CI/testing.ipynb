{
 "cells": [
  {
   "cell_type": "code",
   "execution_count": 2,
   "metadata": {},
   "outputs": [
    {
     "name": "stdout",
     "output_type": "stream",
     "text": [
      "✓ Digital Audio Workstation passed \n",
      "✓ Smart Water Bottle passed \n",
      "✓ FPV Car passed \n",
      "✓ 8-Bit Computer passed \n",
      "✓ Instrument Looper Pedal passed \n",
      "✓ Vector Graphics Generator passed \n",
      "✓ PCB Engraver passed \n",
      "✓ InspireFly Cubesat Power Supply passed \n",
      "✓ InspireFly Cubesat On Board Computer passed \n",
      "✓ InspireFly Cubesat Telemetry Tracking and Control passed \n",
      "✓ Stepper Motor Symphony passed \n",
      "✓ IOT Arm passed \n",
      "✓ 8 Bit Computer passed \n",
      "✓ Stylophone passed \n",
      "✓ 3-Phase-AC-generator passed \n",
      "✓ Split-Rail-DC-Power-Supply passed \n",
      "✓ Cockcroft-Walton Circuit passed \n",
      "✓ Protoglove passed \n",
      "✓ Modular Amateur Rocket Computer passed \n",
      "✓ Analog Guitar Amplifier with Effects passed \n"
     ]
    }
   ],
   "source": [
    "from yaml import load\n",
    "from yaml import Loader\n",
    "import requests\n",
    "from IPython.display import Image\n",
    "\n",
    "path_to_repos = \"../repos.yaml\"\n",
    "\n",
    "check = \"\\u2713\"\n",
    "cross = \"\\u2717\"\n",
    "\n",
    "with open(path_to_repos, \"r\") as f:\n",
    "    repos = load(f, Loader=Loader)\n",
    "\n",
    "for repo in repos:\n",
    "    issues = []\n",
    "\n",
    "    elements = repos[repo]\n",
    "    url = elements[\"url\"]\n",
    "    branch = elements[\"branch\"]\n",
    "    mentor = elements[\"mentor_last_name\"]\n",
    "\n",
    "    image_name = \"hero.png\"\n",
    "\n",
    "    # extract the repo path and owner\n",
    "    repo_path = url.split(\"/\")[-1].split(\".\")[0]\n",
    "    repo_owner = url.split(\"/\")[-2]\n",
    "\n",
    "    api_url = f\"https://api.github.com/repos/{repo_owner}/{repo_path}/branches/{branch}\"\n",
    "    image_url = f\"https://raw.githubusercontent.com/{repo_owner}/{repo_path}/{branch}/{image_name}\"\n",
    "    # pull the image from the repo\n",
    "    r = requests.get(image_url)\n",
    "    \n",
    "    # Check #1: Mentor is not none\n",
    "    if mentor is None:\n",
    "        issues.append (f\"{cross} Mentor is None\")\n",
    "\n",
    "    # Check #2: Branch exists\n",
    "    r = requests.get(api_url)\n",
    "    if r.status_code != 200:\n",
    "        issues.append(f\"{cross} Branch {branch} does not exist\")\n",
    "\n",
    "    # Check #3: Image exists and is different than the stock image\n",
    "    expected_image = f\"./hero.png\"\n",
    "    with open(expected_image, \"rb\") as f:\n",
    "        expected = f.read()\n",
    "    if r.content == expected:\n",
    "        issues.append(f\"{cross} Image {image_name} is the same as the stock image\")\n",
    "\n",
    "    # Check #4: A mentor is assigned\n",
    "    if mentor is None:\n",
    "        issues.append(f\"{cross} Mentor is not assigned\")\n",
    "\n",
    "    # Print out the results (if the length of issues is 0, passed)\n",
    "    if (len(issues) == 0):\n",
    "        print(f\"{check} {repo} passed \")\n",
    "    else:\n",
    "        print(f\"{cross} {repo} failed\")\n",
    "        for issue in issues:\n",
    "            print(f\"\\t{issue}\")"
   ]
  }
 ],
 "metadata": {
  "kernelspec": {
   "display_name": "ci-9ko-iVLr-py3.10",
   "language": "python",
   "name": "python3"
  },
  "language_info": {
   "codemirror_mode": {
    "name": "ipython",
    "version": 3
   },
   "file_extension": ".py",
   "mimetype": "text/x-python",
   "name": "python",
   "nbconvert_exporter": "python",
   "pygments_lexer": "ipython3",
   "version": "3.10.10"
  }
 },
 "nbformat": 4,
 "nbformat_minor": 2
}
